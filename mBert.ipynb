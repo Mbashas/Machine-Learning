{
 "cells": [
  {
   "cell_type": "markdown",
   "metadata": {},
   "source": [
    "\n",
    "# Step 0: Install necessary packages\n",
    "\n"
   ]
  },
  {
   "cell_type": "code",
   "execution_count": null,
   "metadata": {},
   "outputs": [],
   "source": [
    "\n",
    "!pip install transformers datasets torch"
   ]
  },
  {
   "cell_type": "markdown",
   "metadata": {},
   "source": [
    "\n",
    "# Step 1: Import Libraries"
   ]
  },
  {
   "cell_type": "code",
   "execution_count": null,
   "metadata": {},
   "outputs": [],
   "source": [
    "\n",
    "\n",
    "from transformers import BertTokenizer, BertForSequenceClassification, Trainer, TrainingArguments\n",
    "from datasets import load_dataset\n",
    "import torch\n",
    "import random"
   ]
  },
  {
   "cell_type": "markdown",
   "metadata": {},
   "source": [
    "\n",
    "# Step 2: Load and Tokenize the English Dataset\n",
    "\n",
    "# Download the XNLI dataset for English language."
   ]
  },
  {
   "cell_type": "code",
   "execution_count": null,
   "metadata": {},
   "outputs": [],
   "source": [
    "\n",
    "dataset = load_dataset('xnli', 'en')\n",
    "\n",
    "# Initialize the mBERT tokenizer.\n",
    "tokenizer = BertTokenizer.from_pretrained('bert-base-multilingual-cased')\n",
    "\n",
    "# Define the function that tokenizes the premise and hypothesis text.\n",
    "def tokenize_function(examples):\n",
    "    # Convert the list of tokens (if not plain strings) to strings\n",
    "    premise = [ex if isinstance(ex, str) else \" \".join(ex) for ex in examples['premise']]\n",
    "    hypothesis = [ex if isinstance(ex, str) else \" \".join(ex) for ex in examples['hypothesis']]\n",
    "    return tokenizer(premise, hypothesis, padding=\"max_length\", truncation=True)\n",
    "\n",
    "# Apply the tokenization function to the dataset.\n",
    "tokenized_datasets = dataset.map(tokenize_function, batched=True)\n",
    "# Set output format for PyTorch.\n",
    "tokenized_datasets.set_format('torch', columns=['input_ids', 'attention_mask', 'label'])\n",
    "\n"
   ]
  },
  {
   "cell_type": "markdown",
   "metadata": {},
   "source": [
    "# Step 3: Sample a Subset for Training and Validation\n",
    "# For quicker training, we randomly sample a small subset.\n"
   ]
  },
  {
   "cell_type": "code",
   "execution_count": null,
   "metadata": {},
   "outputs": [],
   "source": [
    "random.seed(42)\n",
    "train_indices = random.sample(range(len(tokenized_datasets['train'])), 1000)\n",
    "val_indices = random.sample(range(len(tokenized_datasets['validation'])), 500)\n",
    "\n",
    "train_dataset = tokenized_datasets['train'].select(train_indices)\n",
    "val_dataset = tokenized_datasets['validation'].select(val_indices)"
   ]
  },
  {
   "cell_type": "markdown",
   "metadata": {},
   "source": [
    "\n",
    "# Step 4: Load the mBERT Model for Sequence Classification\n",
    "\n",
    "# Create a classification model for 3 labels."
   ]
  },
  {
   "cell_type": "code",
   "execution_count": null,
   "metadata": {},
   "outputs": [],
   "source": [
    "model = BertForSequenceClassification.from_pretrained('bert-base-multilingual-cased', num_labels=3)"
   ]
  },
  {
   "cell_type": "markdown",
   "metadata": {},
   "source": [
    "# Step 5: Set Up Training Arguments and Trainer"
   ]
  },
  {
   "cell_type": "code",
   "execution_count": null,
   "metadata": {},
   "outputs": [],
   "source": [
    "training_args = TrainingArguments(\n",
    "    output_dir='./results',              # Output directory for model predictions and checkpoints\n",
    "    evaluation_strategy=\"epoch\",         # Evaluate model every epoch\n",
    "    learning_rate=2e-5,\n",
    "    per_device_train_batch_size=16,\n",
    "    per_device_eval_batch_size=16,\n",
    "    num_train_epochs=3,                  # Train for 3 epochs\n",
    "    weight_decay=0.01,\n",
    "    fp16=True,                           # Use mixed precision training\n",
    ")\n",
    "\n",
    "trainer = Trainer(\n",
    "    model=model,\n",
    "    args=training_args,\n",
    "    train_dataset=train_dataset,         # English training dataset\n",
    "    eval_dataset=val_dataset,            # English validation dataset\n",
    ")\n",
    "\n",
    "# Fine-tune the model on the English dataset.\n",
    "trainer.train()"
   ]
  },
  {
   "cell_type": "markdown",
   "metadata": {},
   "source": [
    "\n",
    "# Step 6: Evaluate the Model on a French Dataset for Cross-Lingual Transfer\n",
    "\n",
    "# Download the French version of the XNLI dataset."
   ]
  },
  {
   "cell_type": "code",
   "execution_count": null,
   "metadata": {},
   "outputs": [],
   "source": [
    "french_dataset = load_dataset('xnli', 'fr')\n",
    "\n",
    "# Tokenize the French dataset using the same function.\n",
    "tokenized_french_dataset = french_dataset.map(tokenize_function, batched=True)\n",
    "tokenized_french_dataset.set_format('torch', columns=['input_ids', 'attention_mask', 'label'])\n",
    "\n",
    "# Use the validation portion for evaluation.\n",
    "french_val_dataset = tokenized_french_dataset['validation']\n",
    "\n",
    "# Evaluate the model on the French validation set.\n",
    "results = trainer.evaluate(french_val_dataset)\n",
    "print(\"Evaluation results on French dataset:\", results)"
   ]
  }
 ],
 "metadata": {
  "language_info": {
   "name": "python"
  }
 },
 "nbformat": 4,
 "nbformat_minor": 2
}
