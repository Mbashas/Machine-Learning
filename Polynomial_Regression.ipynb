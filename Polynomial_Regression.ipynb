{
 "cells": [
  {
   "cell_type": "markdown",
   "id": "d9fa2bc4-2a21-48f6-b608-e97eb0528bec",
   "metadata": {},
   "source": [
    "<p style=\"text-align:center\">\n",
    "    <a href=\"https://skills.network\" target=\"_blank\">\n",
    "    <img src=\"https://cf-courses-data.s3.us.cloud-object-storage.appdomain.cloud/assets/logos/SN_web_lightmode.png\" width=\"200\" alt=\"Skills Network Logo\">\n",
    "    </a>\n",
    "</p>\n"
   ]
  },
  {
   "cell_type": "markdown",
   "id": "288e9019-5e06-4ba7-b69e-12a00838021a",
   "metadata": {},
   "source": [
    "# Polynomial Regression\n",
    "\n",
    "\n",
    "Estimated time needed: **40** minutes\n",
    "\n",
    "What if your data is more complex than a straight line? Surprisingly, you can use a linear model to fit nonlinear data. A simple way to do this is to add powers of each feature as new features, then train a linear model on this extended set of features. This technique is called Polynomial Regression.\n",
    "\n",
    "There are two factors when determining model performance: overfitting and underfitting. Overfitting is when the model is too complex and does well on the training data but not on the test data. Underfitting is when the model is too simple and performs poorly on the training and testing data sets. \n",
    "\n",
    "Overfitting is simple to deal with, using methods like regularization, which we will discuss in the next lab. To deal with underfitting, we can build a more complex model using methods like polynomial regression. If making a more complex model does not work, this may involve using more data to train the model on or obtaining new features. As this process is complex, it's better to determine if the model can overfit the data first. Therefore, in this section, we will use Polynomial Regression to overfit the data to determine if we have an adequate amount of data.\n",
    "\n",
    "In this notebook, we will explore Polynomial Regression and perform polynomial transform using individual features as well as multiple features.\n",
    "\n",
    "\n",
    "## Objectives\n",
    "\n",
    "After completing this lab you will be able to:\n",
    "\n",
    "*   Understand the concept of  overfitting versus underfitting\n",
    "*   Apply polynomial transforms to data \n",
    "*   Perform  hyperparameters grid search on a model, using validation data \n",
    "\n"
   ]
  },
  {
   "cell_type": "markdown",
   "id": "506adf94-ae47-4318-9b73-4990fc3e3442",
   "metadata": {},
   "source": [
    "***\n"
   ]
  },
  {
   "cell_type": "markdown",
   "id": "a48fef6a-3a44-43be-8110-32f8477cb876",
   "metadata": {},
   "source": [
    "## **Setup**\n"
   ]
  },
  {
   "cell_type": "markdown",
   "id": "966e7319-b915-4468-96f3-98ab95ebe4bd",
   "metadata": {},
   "source": [
    "For this lab, we will be using the following libraries:\n",
    " - [`pandas`](https://pandas.pydata.org/) for managing the data.\n",
    " - [`numpy`](https://numpy.org/) for mathematical operations.\n",
    " - [`seaborn`](https://seaborn.pydata.org/) for visualizing the data.\n",
    " - [`matplotlib`](https://matplotlib.org/) for visualizing the data.\n",
    " - [`sklearn`](https://scikit-learn.org/stable/) for machine learning and machine-learning-pipeline related functions.\n",
    " - [`scipy`](https://docs.scipy.org/doc/scipy/tutorial/stats.html/) for statistical computations.\n"
   ]
  },
  {
   "cell_type": "markdown",
   "id": "46d28656-d3c6-4282-b493-ae6c83a0c8bb",
   "metadata": {},
   "source": [
    "## **Import the required libraries**\n"
   ]
  },
  {
   "cell_type": "markdown",
   "id": "5986ac68-5170-4642-98b3-011859e4b878",
   "metadata": {},
   "source": [
    "The following required modules are pre-installed in the Skills Network Labs environment. However, if you run this notebook commands in a different Jupyter environment (e.g. Watson Studio or Ananconda), you will need to install these libraries by removing the `#` sign before `!mamba` in the code cell below.\n"
   ]
  },
  {
   "cell_type": "code",
   "execution_count": null,
   "id": "043617d5-d95d-45b2-9741-539bc756873a",
   "metadata": {},
   "outputs": [],
   "source": [
    "# All Libraries required for this lab are listed below. The libraries pre-installed on Skills Network Labs are commented.\n",
    "# !mamba install -qy pandas==1.3.4 numpy==1.21.4 seaborn==0.9.0 matplotlib==3.5.0 scikit-learn==0.20.1\n",
    "# Note: If your environment doesn't support \"!mamba install\", use \"!pip install\""
   ]
  },
  {
   "cell_type": "markdown",
   "id": "8ac4f509-7e1d-4206-a250-dc43bf4e076b",
   "metadata": {},
   "source": [
    "#!pip install -U scikit-learn\n",
    "!pip install pandas\n",
    "!pip install numpy\n",
    "!pip install seaborn\n",
    "!pip install matplotlib\n",
    "!pip install scikit-learn"
   ]
  },
  {
   "cell_type": "code",
   "execution_count": 1,
   "id": "0f28b52c-9704-4a93-ba17-7e531178402e",
   "metadata": {},
   "outputs": [],
   "source": [
    "# Surpress warnings:\n",
    "def warn(*args, **kwargs):\n",
    "    pass\n",
    "import warnings\n",
    "warnings.warn = warn\n"
   ]
  },
  {
   "cell_type": "code",
   "execution_count": 2,
   "id": "370b72aa-9707-4f42-8128-f294aaa77605",
   "metadata": {},
   "outputs": [],
   "source": [
    "import pandas as pd\n",
    "import numpy as np \n",
    "\n",
    "import seaborn as sns \n",
    "import matplotlib.pylab as plt\n",
    "%matplotlib inline\n",
    "\n",
    "from sklearn.model_selection import train_test_split\n",
    "from sklearn.linear_model import LinearRegression\n",
    "from sklearn.metrics import r2_score \n",
    "from sklearn.preprocessing import PolynomialFeatures\n",
    "from sklearn.metrics import mean_squared_error\n",
    "from sklearn.preprocessing import scale\n",
    "from sklearn.preprocessing import StandardScaler\n",
    "from sklearn.preprocessing import MinMaxScaler\n",
    "from sklearn.feature_selection import SelectKBest, f_regression\n",
    "from sklearn.pipeline import Pipeline\n",
    "from sklearn.model_selection import GridSearchCV"
   ]
  },
  {
   "cell_type": "markdown",
   "id": "0fb62449-57b4-4d9c-b4e1-1eae459ddc93",
   "metadata": {},
   "source": [
    "The function below will calculate the $R^{2}$ on each feature given the a input model.\n"
   ]
  },
  {
   "cell_type": "code",
   "execution_count": 3,
   "id": "8a1b95f6-6b71-4e04-b448-74166ce21550",
   "metadata": {},
   "outputs": [],
   "source": [
    "def get_R2_features(model,test=True): \n",
    "    #X: global  \n",
    "    features=list(X)\n",
    "    features.remove(\"three\")\n",
    "    \n",
    "    R_2_train=[]\n",
    "    R_2_test=[]\n",
    "\n",
    "    for feature in features:\n",
    "        model.fit(X_train[[feature]],y_train)\n",
    "        \n",
    "        R_2_test.append(model.score(X_test[[feature]],y_test))\n",
    "        R_2_train.append(model.score(X_train[[feature]],y_train))\n",
    "        \n",
    "    plt.bar(features,R_2_train,label=\"Train\")\n",
    "    plt.bar(features,R_2_test,label=\"Test\")\n",
    "    plt.xticks(rotation=90)\n",
    "    plt.ylabel(\"$R^2$\")\n",
    "    plt.legend()\n",
    "    plt.show()\n",
    "    print(\"Training R^2 mean value {} Testing R^2 mean value {} \".format(str(np.mean(R_2_train)),str(np.mean(R_2_test))) )\n",
    "    print(\"Training R^2 max value {} Testing R^2 max value {} \".format(str(np.max(R_2_train)),str(np.max(R_2_test))) )"
   ]
  },
  {
   "cell_type": "markdown",
   "id": "00e7559b-b3cd-4358-9781-f8408ddc0f6b",
   "metadata": {},
   "source": [
    "The function below will plot the distribution of two inputs.\n"
   ]
  },
  {
   "cell_type": "code",
   "execution_count": 4,
   "id": "b3120e02-6942-4ca3-a733-eadcf816cfa1",
   "metadata": {},
   "outputs": [],
   "source": [
    "def  plot_dis(y,yhat):\n",
    "    \n",
    "    plt.figure()\n",
    "    ax1 = sns.distplot(y, hist=False, color=\"r\", label=\"Actual Value\")\n",
    "    sns.distplot(yhat, hist=False, color=\"b\", label=\"Fitted Values\" , ax=ax1)\n",
    "    plt.legend()\n",
    "\n",
    "    plt.title('Actual vs Fitted Values')\n",
    "    plt.xlabel('Price (in dollars)')\n",
    "    plt.ylabel('Proportion of Cars')\n",
    "\n",
    "    plt.show()\n",
    "    plt.close()"
   ]
  },
  {
   "cell_type": "markdown",
   "id": "f44e9c7e-9ff0-4900-a8f5-a9ee898d81d3",
   "metadata": {},
   "source": [
    "## **Reading and understanding our data**\n"
   ]
  },
  {
   "cell_type": "markdown",
   "id": "96bd3406-1f28-4c6d-9fc6-6a7fc5a22de4",
   "metadata": {},
   "source": [
    "For this lab, we will be using the car sales dataset, hosted on IBM Cloud object storage. This dataset can also be found and downloaded from [kaggle.com](https://www.kaggle.com/datasets/goyalshalini93/car-data), an open public data source.\n",
    "The dataset contains all the information about cars, a name of a manufacturer, all car's technical parameters and a sale price of a car.\n",
    "\n",
    "This dataset has already been pre-cleaned and encoded (using one-hot and label encoders) in the Linear Regression Notebook.\n"
   ]
  },
  {
   "cell_type": "markdown",
   "id": "5f1eaca9-69ca-4595-ae0d-598d378269e0",
   "metadata": {},
   "source": [
    "Let's read the data into *pandas* data frame and look at the first 5 rows using the `head()` method.\n"
   ]
  },
  {
   "cell_type": "code",
   "execution_count": 5,
   "id": "79a9c9ee-49e7-4312-a5df-aeb83f5e8efb",
   "metadata": {},
   "outputs": [
    {
     "data": {
      "text/html": [
       "<div>\n",
       "<style scoped>\n",
       "    .dataframe tbody tr th:only-of-type {\n",
       "        vertical-align: middle;\n",
       "    }\n",
       "\n",
       "    .dataframe tbody tr th {\n",
       "        vertical-align: top;\n",
       "    }\n",
       "\n",
       "    .dataframe thead th {\n",
       "        text-align: right;\n",
       "    }\n",
       "</style>\n",
       "<table border=\"1\" class=\"dataframe\">\n",
       "  <thead>\n",
       "    <tr style=\"text-align: right;\">\n",
       "      <th></th>\n",
       "      <th>diesel</th>\n",
       "      <th>gas</th>\n",
       "      <th>std</th>\n",
       "      <th>turbo</th>\n",
       "      <th>convertible</th>\n",
       "      <th>hardtop</th>\n",
       "      <th>hatchback</th>\n",
       "      <th>sedan</th>\n",
       "      <th>wagon</th>\n",
       "      <th>4wd</th>\n",
       "      <th>...</th>\n",
       "      <th>wheelbase</th>\n",
       "      <th>curbweight</th>\n",
       "      <th>enginesize</th>\n",
       "      <th>boreratio</th>\n",
       "      <th>horsepower</th>\n",
       "      <th>carlength</th>\n",
       "      <th>carwidth</th>\n",
       "      <th>citympg</th>\n",
       "      <th>highwaympg</th>\n",
       "      <th>price</th>\n",
       "    </tr>\n",
       "  </thead>\n",
       "  <tbody>\n",
       "    <tr>\n",
       "      <th>0</th>\n",
       "      <td>0.0</td>\n",
       "      <td>1.0</td>\n",
       "      <td>1.0</td>\n",
       "      <td>0.0</td>\n",
       "      <td>1.0</td>\n",
       "      <td>0.0</td>\n",
       "      <td>0.0</td>\n",
       "      <td>0.0</td>\n",
       "      <td>0.0</td>\n",
       "      <td>0.0</td>\n",
       "      <td>...</td>\n",
       "      <td>88.6</td>\n",
       "      <td>2548.0</td>\n",
       "      <td>130.0</td>\n",
       "      <td>3.47</td>\n",
       "      <td>111.0</td>\n",
       "      <td>168.8</td>\n",
       "      <td>64.1</td>\n",
       "      <td>21.0</td>\n",
       "      <td>27.0</td>\n",
       "      <td>13495.0</td>\n",
       "    </tr>\n",
       "    <tr>\n",
       "      <th>1</th>\n",
       "      <td>0.0</td>\n",
       "      <td>1.0</td>\n",
       "      <td>1.0</td>\n",
       "      <td>0.0</td>\n",
       "      <td>1.0</td>\n",
       "      <td>0.0</td>\n",
       "      <td>0.0</td>\n",
       "      <td>0.0</td>\n",
       "      <td>0.0</td>\n",
       "      <td>0.0</td>\n",
       "      <td>...</td>\n",
       "      <td>88.6</td>\n",
       "      <td>2548.0</td>\n",
       "      <td>130.0</td>\n",
       "      <td>3.47</td>\n",
       "      <td>111.0</td>\n",
       "      <td>168.8</td>\n",
       "      <td>64.1</td>\n",
       "      <td>21.0</td>\n",
       "      <td>27.0</td>\n",
       "      <td>16500.0</td>\n",
       "    </tr>\n",
       "    <tr>\n",
       "      <th>2</th>\n",
       "      <td>0.0</td>\n",
       "      <td>1.0</td>\n",
       "      <td>1.0</td>\n",
       "      <td>0.0</td>\n",
       "      <td>0.0</td>\n",
       "      <td>0.0</td>\n",
       "      <td>1.0</td>\n",
       "      <td>0.0</td>\n",
       "      <td>0.0</td>\n",
       "      <td>0.0</td>\n",
       "      <td>...</td>\n",
       "      <td>94.5</td>\n",
       "      <td>2823.0</td>\n",
       "      <td>152.0</td>\n",
       "      <td>2.68</td>\n",
       "      <td>154.0</td>\n",
       "      <td>171.2</td>\n",
       "      <td>65.5</td>\n",
       "      <td>19.0</td>\n",
       "      <td>26.0</td>\n",
       "      <td>16500.0</td>\n",
       "    </tr>\n",
       "    <tr>\n",
       "      <th>3</th>\n",
       "      <td>0.0</td>\n",
       "      <td>1.0</td>\n",
       "      <td>1.0</td>\n",
       "      <td>0.0</td>\n",
       "      <td>0.0</td>\n",
       "      <td>0.0</td>\n",
       "      <td>0.0</td>\n",
       "      <td>1.0</td>\n",
       "      <td>0.0</td>\n",
       "      <td>0.0</td>\n",
       "      <td>...</td>\n",
       "      <td>99.8</td>\n",
       "      <td>2337.0</td>\n",
       "      <td>109.0</td>\n",
       "      <td>3.19</td>\n",
       "      <td>102.0</td>\n",
       "      <td>176.6</td>\n",
       "      <td>66.2</td>\n",
       "      <td>24.0</td>\n",
       "      <td>30.0</td>\n",
       "      <td>13950.0</td>\n",
       "    </tr>\n",
       "    <tr>\n",
       "      <th>4</th>\n",
       "      <td>0.0</td>\n",
       "      <td>1.0</td>\n",
       "      <td>1.0</td>\n",
       "      <td>0.0</td>\n",
       "      <td>0.0</td>\n",
       "      <td>0.0</td>\n",
       "      <td>0.0</td>\n",
       "      <td>1.0</td>\n",
       "      <td>0.0</td>\n",
       "      <td>1.0</td>\n",
       "      <td>...</td>\n",
       "      <td>99.4</td>\n",
       "      <td>2824.0</td>\n",
       "      <td>136.0</td>\n",
       "      <td>3.19</td>\n",
       "      <td>115.0</td>\n",
       "      <td>176.6</td>\n",
       "      <td>66.4</td>\n",
       "      <td>18.0</td>\n",
       "      <td>22.0</td>\n",
       "      <td>17450.0</td>\n",
       "    </tr>\n",
       "  </tbody>\n",
       "</table>\n",
       "<p>5 rows × 36 columns</p>\n",
       "</div>"
      ],
      "text/plain": [
       "   diesel  gas  std  turbo  convertible  hardtop  hatchback  sedan  wagon  \\\n",
       "0     0.0  1.0  1.0    0.0          1.0      0.0        0.0    0.0    0.0   \n",
       "1     0.0  1.0  1.0    0.0          1.0      0.0        0.0    0.0    0.0   \n",
       "2     0.0  1.0  1.0    0.0          0.0      0.0        1.0    0.0    0.0   \n",
       "3     0.0  1.0  1.0    0.0          0.0      0.0        0.0    1.0    0.0   \n",
       "4     0.0  1.0  1.0    0.0          0.0      0.0        0.0    1.0    0.0   \n",
       "\n",
       "   4wd  ...  wheelbase  curbweight  enginesize  boreratio  horsepower  \\\n",
       "0  0.0  ...       88.6      2548.0       130.0       3.47       111.0   \n",
       "1  0.0  ...       88.6      2548.0       130.0       3.47       111.0   \n",
       "2  0.0  ...       94.5      2823.0       152.0       2.68       154.0   \n",
       "3  0.0  ...       99.8      2337.0       109.0       3.19       102.0   \n",
       "4  1.0  ...       99.4      2824.0       136.0       3.19       115.0   \n",
       "\n",
       "   carlength  carwidth  citympg  highwaympg    price  \n",
       "0      168.8      64.1     21.0        27.0  13495.0  \n",
       "1      168.8      64.1     21.0        27.0  16500.0  \n",
       "2      171.2      65.5     19.0        26.0  16500.0  \n",
       "3      176.6      66.2     24.0        30.0  13950.0  \n",
       "4      176.6      66.4     18.0        22.0  17450.0  \n",
       "\n",
       "[5 rows x 36 columns]"
      ]
     },
     "execution_count": 5,
     "metadata": {},
     "output_type": "execute_result"
    }
   ],
   "source": [
    "data = pd.read_csv('https://cf-courses-data.s3.us.cloud-object-storage.appdomain.cloud/IBM-ML240EN-SkillsNetwork/labs/encoded_car_data.csv')\n",
    "data.head()"
   ]
  },
  {
   "cell_type": "markdown",
   "id": "d3e080c2-2543-4ef8-91d7-851a5106ff0c",
   "metadata": {},
   "source": [
    "We can find more information about the features and types using the `info()`  method.\n"
   ]
  },
  {
   "cell_type": "code",
   "execution_count": 6,
   "id": "04eafef0-8db1-4cb1-ac5f-9d37959221a7",
   "metadata": {},
   "outputs": [
    {
     "name": "stdout",
     "output_type": "stream",
     "text": [
      "<class 'pandas.core.frame.DataFrame'>\n",
      "RangeIndex: 205 entries, 0 to 204\n",
      "Data columns (total 36 columns):\n",
      " #   Column       Non-Null Count  Dtype  \n",
      "---  ------       --------------  -----  \n",
      " 0   diesel       205 non-null    float64\n",
      " 1   gas          205 non-null    float64\n",
      " 2   std          205 non-null    float64\n",
      " 3   turbo        205 non-null    float64\n",
      " 4   convertible  205 non-null    float64\n",
      " 5   hardtop      205 non-null    float64\n",
      " 6   hatchback    205 non-null    float64\n",
      " 7   sedan        205 non-null    float64\n",
      " 8   wagon        205 non-null    float64\n",
      " 9   4wd          205 non-null    float64\n",
      " 10  fwd          205 non-null    float64\n",
      " 11  rwd          205 non-null    float64\n",
      " 12  dohc         205 non-null    float64\n",
      " 13  dohcv        205 non-null    float64\n",
      " 14  l            205 non-null    float64\n",
      " 15  ohc          205 non-null    float64\n",
      " 16  ohcf         205 non-null    float64\n",
      " 17  ohcv         205 non-null    float64\n",
      " 18  rotor        205 non-null    float64\n",
      " 19  eight        205 non-null    float64\n",
      " 20  five         205 non-null    float64\n",
      " 21  four         205 non-null    float64\n",
      " 22  six          205 non-null    float64\n",
      " 23  three        205 non-null    float64\n",
      " 24  twelve       205 non-null    float64\n",
      " 25  two          205 non-null    float64\n",
      " 26  wheelbase    205 non-null    float64\n",
      " 27  curbweight   205 non-null    float64\n",
      " 28  enginesize   205 non-null    float64\n",
      " 29  boreratio    205 non-null    float64\n",
      " 30  horsepower   205 non-null    float64\n",
      " 31  carlength    205 non-null    float64\n",
      " 32  carwidth     205 non-null    float64\n",
      " 33  citympg      205 non-null    float64\n",
      " 34  highwaympg   205 non-null    float64\n",
      " 35  price        205 non-null    float64\n",
      "dtypes: float64(36)\n",
      "memory usage: 57.8 KB\n"
     ]
    }
   ],
   "source": [
    "data.info()"
   ]
  },
  {
   "cell_type": "markdown",
   "id": "fffd271e-0181-4821-ba80-fabfe286e434",
   "metadata": {},
   "source": [
    "We have 35 features in our dataset after the one hot encoding. \n",
    "\n",
    "Before we begin our polynomial analysis, let's visualize some of the relationships between our features and the target variable, 'price'.\n"
   ]
  },
  {
   "cell_type": "code",
   "execution_count": 7,
   "id": "3946d853-d82b-4456-a602-bb2d0c7683c5",
   "metadata": {},
   "outputs": [
    {
     "data": {
      "text/plain": [
       "<seaborn.axisgrid.FacetGrid at 0x204d9abb260>"
      ]
     },
     "execution_count": 7,
     "metadata": {},
     "output_type": "execute_result"
    },
    {
     "data": {
      "image/png": "[encoded data removed]",
      "text/plain": [
       "<Figure size 500x500 with 1 Axes>"
      ]
     },
     "metadata": {},
     "output_type": "display_data"
    }
   ],
   "source": [
    "sns.lmplot(x = 'curbweight', y = 'price', data = data, order=2)"
   ]
  },
  {
   "cell_type": "code",
   "execution_count": 8,
   "id": "e1a0aeda-6aa6-4510-9783-a8b09fdaac65",
   "metadata": {},
   "outputs": [
    {
     "data": {
      "text/plain": [
       "<seaborn.axisgrid.FacetGrid at 0x204a88737d0>"
      ]
     },
     "execution_count": 8,
     "metadata": {},
     "output_type": "execute_result"
    },
    {
     "data": {
      "image/png": "[encoded data removed]",
      "text/plain": [
       "<Figure size 500x500 with 1 Axes>"
      ]
     },
     "metadata": {},
     "output_type": "display_data"
    }
   ],
   "source": [
    "sns.lmplot(x = 'carlength', y = 'price', data = data, order=2)"
   ]
  },
  {
   "cell_type": "markdown",
   "id": "0a5f3a41-04fb-4b47-834f-f32eb2c86192",
   "metadata": {},
   "source": [
    "The relationship is more curved.\n"
   ]
  },
  {
   "cell_type": "markdown",
   "id": "68a1e95e-4594-4b63-9bf5-c80fda0e4014",
   "metadata": {},
   "source": [
    "## Exercise 1\n",
    "In this Exercise, visualize the relationship between the 'horsepower' and the target variable, 'price'.\n"
   ]
  },
  {
   "cell_type": "code",
   "execution_count": 9,
   "id": "d55ea6d5-35b3-4d86-9e53-03b7e8badaa6",
   "metadata": {},
   "outputs": [
    {
     "data": {
      "text/plain": [
       "<seaborn.axisgrid.FacetGrid at 0x204dbb8f9b0>"
      ]
     },
     "execution_count": 9,
     "metadata": {},
     "output_type": "execute_result"
    },
    {
     "data": {
      "image/png": "[encoded data removed]",
      "text/plain": [
       "<Figure size 500x500 with 1 Axes>"
      ]
     },
     "metadata": {},
     "output_type": "display_data"
    }
   ],
   "source": [
    "# Enter your code and run the cell\n",
    "sns.lmplot(x = 'horsepower', y = 'price', data = data, order=2)"
   ]
  },
  {
   "cell_type": "markdown",
   "id": "67de342c-78db-4bbb-b6e8-80f5d5f946a0",
   "metadata": {},
   "source": [
    "## Data Preparation\n",
    "\n",
    "Let's first split our data into ```X``` features and ```y``` target.\n"
   ]
  },
  {
   "cell_type": "code",
   "execution_count": 19,
   "id": "f8672908-7a5a-4974-a34f-49c3a3feda1b",
   "metadata": {},
   "outputs": [],
   "source": [
    "X = data.drop('price', axis=1)\n",
    "y = data.price"
   ]
  },
  {
   "cell_type": "code",
   "execution_count": 20,
   "metadata": {},
   "outputs": [
    {
     "data": {
      "text/plain": [
       "0      13495.0\n",
       "1      16500.0\n",
       "2      16500.0\n",
       "3      13950.0\n",
       "4      17450.0\n",
       "        ...   \n",
       "200    16845.0\n",
       "201    19045.0\n",
       "202    21485.0\n",
       "203    22470.0\n",
       "204    22625.0\n",
       "Name: price, Length: 205, dtype: float64"
      ]
     },
     "execution_count": 20,
     "metadata": {},
     "output_type": "execute_result"
    }
   ],
   "source": [
    "y"
   ]
  },
  {
   "cell_type": "markdown",
   "id": "562898a9-8cee-431d-869a-44bbc8a23d96",
   "metadata": {},
   "source": [
    "## Train Test Split \n"
   ]
  },
  {
   "cell_type": "markdown",
   "id": "94b917a8-6dd6-4d44-9f96-269f1ddd4ed5",
   "metadata": {},
   "source": [
    "Now that we have split our data into training and testing sets, the training data is used for your model to recognize patterns using some criteria,the test data set it used to evaluate your model, as shown in the following image:\n"
   ]
  },
  {
   "cell_type": "markdown",
   "id": "b11572cb-7d3c-4470-aade-141fd5ee6219",
   "metadata": {},
   "source": [
    "<center>\n",
    "    <img src=\"https://cf-courses-data.s3.us.cloud-object-storage.appdomain.cloud/IBM-ML240EN-SkillsNetwork/images/trin-test.png\">\n",
    "</center>\n",
    "<center>source scikit-learn.org</center>\n"
   ]
  },
  {
   "cell_type": "markdown",
   "id": "a5218e73-37e4-45c3-ac34-8f5ec8d382e7",
   "metadata": {},
   "source": [
    "Now, we split our data, using <code>train_test_split</code> function, into the training and testing sets, allocating 30% of the data for testing.\n"
   ]
  },
  {
   "cell_type": "code",
   "execution_count": null,
   "id": "2eaee190-d798-4477-b47f-ea7ddd49d083",
   "metadata": {},
   "outputs": [],
   "source": [
    "X_train, X_test, y_train, y_test = train_test_split(X,y, test_size=0.3, random_state=42)\n",
    "print(\"Number of test samples:\", X_test.shape[0])\n",
    "print(\"Number of training samples:\", X_train.shape[0])\n"
   ]
  },
  {
   "cell_type": "markdown",
   "id": "a3004c94-aabd-42c1-96bf-cfb3a89c6e54",
   "metadata": {},
   "source": [
    "### Multiple Features\n"
   ]
  },
  {
   "cell_type": "markdown",
   "id": "cc4d53bf-7b30-479f-8c4f-aecddda9a641",
   "metadata": {},
   "source": [
    "Let's create a <code>LinearRegression</code> object, called `lm`. \n"
   ]
  },
  {
   "cell_type": "code",
   "execution_count": null,
   "id": "972ae238-cd24-428f-aafc-9900552b5da6",
   "metadata": {},
   "outputs": [],
   "source": [
    "lm = LinearRegression()"
   ]
  },
  {
   "cell_type": "markdown",
   "id": "4393426b-b23a-47be-9642-8b329f00ebbc",
   "metadata": {},
   "source": [
    "Now, let's fit the model with multiple features on our X_train and y_train data.\n"
   ]
  },
  {
   "cell_type": "code",
   "execution_count": null,
   "id": "5f08d248-0534-4e11-a606-f9a7c918d5eb",
   "metadata": {},
   "outputs": [],
   "source": [
    "lm.fit(X_train, y_train)"
   ]
  },
  {
   "cell_type": "markdown",
   "id": "3dc934c2-6f1f-4f05-8496-b9c8c2641243",
   "metadata": {},
   "source": [
    "We apply `predict(`) function on the testing data set.\n"
   ]
  },
  {
   "cell_type": "code",
   "execution_count": null,
   "id": "b0feeb35-97cd-4e4e-bf36-4f69f4bda145",
   "metadata": {},
   "outputs": [],
   "source": [
    "predicted = lm.predict(X_test)"
   ]
  },
  {
   "cell_type": "markdown",
   "id": "0734ab26-6a49-421e-925f-a201c04d5837",
   "metadata": {},
   "source": [
    "Let's calculate the `r2_score()` on both, training and testing data sets.\n"
   ]
  },
  {
   "cell_type": "code",
   "execution_count": null,
   "id": "dc34a587-35fc-4f6e-8929-9744d58c9355",
   "metadata": {},
   "outputs": [],
   "source": [
    "print(\"R^2 on training  data \",lm.score(X_train, y_train))\n",
    "print(\"R^2 on testing data \",lm.score(X_test,y_test))"
   ]
  },
  {
   "cell_type": "markdown",
   "id": "b9a538ac-2741-40ee-950e-cbf3f7adb407",
   "metadata": {},
   "source": [
    "We can plot distributions of the predicted values versus the actual values. \n"
   ]
  },
  {
   "cell_type": "code",
   "execution_count": null,
   "id": "a32ac1ed-2d91-43c4-b510-fd367e9ca736",
   "metadata": {},
   "outputs": [],
   "source": [
    "plot_dis(y_test,predicted)"
   ]
  },
  {
   "cell_type": "markdown",
   "id": "c78277c0-97da-4ca5-93a5-e21493270065",
   "metadata": {},
   "source": [
    "Below, we will view the estimated coefficients for the linear regression problem.\n"
   ]
  },
  {
   "cell_type": "code",
   "execution_count": null,
   "id": "9aba5f2a-66de-4af7-9227-a75277ba13ef",
   "metadata": {},
   "outputs": [],
   "source": [
    "{col:coef for col,coef in zip(X.columns, lm.coef_)}"
   ]
  },
  {
   "cell_type": "markdown",
   "id": "9896569f-0369-44ed-90f2-9f820d545076",
   "metadata": {},
   "source": [
    "As we see, the first two coefficients are too large to plot, so we'll drop them and plot the rest of the coefficients.\n"
   ]
  },
  {
   "cell_type": "code",
   "execution_count": null,
   "id": "17902f6c-6b70-4a12-9ca3-81380a775d47",
   "metadata": {},
   "outputs": [],
   "source": [
    "plt.bar(X.columns[2:],abs(lm.coef_[2:]))\n",
    "plt.xticks(rotation=90)\n",
    "plt.ylabel(\"$coefficients$\")\n",
    "plt.show()"
   ]
  },
  {
   "cell_type": "markdown",
   "id": "d2f9bb83-0c8b-4b87-877a-722fd62b8e7d",
   "metadata": {},
   "source": [
    "Usually, we can interpret the lager coefficients as having more importance on the prediction, but this is not always the case, so let's look at the individual features. \n"
   ]
  },
  {
   "cell_type": "markdown",
   "id": "9b5bebb0-2766-4ed2-900a-c7cf064d5e4b",
   "metadata": {},
   "source": [
    "### Individual Features \n"
   ]
  },
  {
   "cell_type": "markdown",
   "id": "5dff95e6-6914-404b-bae4-d5a80fb283ba",
   "metadata": {},
   "source": [
    "We can train the model and plot our $R^2$ for each of the features on the training and testing data sets, using the function <code>get_R2_features</code>.\n"
   ]
  },
  {
   "cell_type": "code",
   "execution_count": null,
   "id": "e721407e-70b5-442a-a981-e2ca0a5db3f6",
   "metadata": {},
   "outputs": [],
   "source": [
    "get_R2_features(lm)"
   ]
  },
  {
   "cell_type": "markdown",
   "id": "cf4d0b4a-364d-4008-a96d-4042dc26cf80",
   "metadata": {},
   "source": [
    "From the above plot, we see that some individual features perform similarly to  using all the features (we removed the feature ```three``` ), in  addition, we see that smaller coefficients seem to correspond to a larger $R^{2}$, therefore  larger coefficients correspond to overfiting.\n"
   ]
  },
  {
   "cell_type": "markdown",
   "id": "147e8959-d621-436f-9c3d-7753012ca21f",
   "metadata": {},
   "source": [
    "## Exercise 2\n",
    "In this Exercise, calculate the $R^2$ using the object Pipeline for  Linear Regression and apply ```StandardScaler()``` to all features, then use the function ```plot_dis``` to compare the predicted values versus the actual values.\n"
   ]
  },
  {
   "cell_type": "code",
   "execution_count": null,
   "id": "e38442a7-7e17-48fc-8854-62be9a9c5b19",
   "metadata": {},
   "outputs": [],
   "source": [
    "# Enter your code and run the cell\n"
   ]
  },
  {
   "cell_type": "markdown",
   "id": "34f9aa50-1561-4e9e-97ff-a461e6d2ecb9",
   "metadata": {},
   "source": [
    "<details>\n",
    "<summary><strong>Solution</strong> (Click Here)</summary>\n",
    " ```python\n",
    "    \n",
    "pipe = Pipeline([('ss',StandardScaler() ),('lr', LinearRegression())])\n",
    "pipe.fit(X_train,y_train)\n",
    "print(\"R^2 on training  data \", pipe.score(X_train, y_train))\n",
    "print(\"R^2 on testing data \", pipe.score(X_test,y_test))\n",
    "predicted = pipe.predict(X_test)\n",
    "plot_dis(y_test,predicted)\n",
    "    \n",
    "```\n",
    "</details>\n"
   ]
  },
  {
   "cell_type": "markdown",
   "id": "a274640b-6a0d-4172-a09b-7773db00d8fa",
   "metadata": {},
   "source": [
    "## Exercise 3\n",
    "In this Exercise, calculate the $R^2$ using the object Pipeline with  ```StandardScaler()``` for each individual features using the function ```get_R2_features```.\n"
   ]
  },
  {
   "cell_type": "code",
   "execution_count": null,
   "id": "8767379e-a912-4907-8a14-7ca424fb45ea",
   "metadata": {},
   "outputs": [],
   "source": [
    "# Enter your code and run the cell\n"
   ]
  },
  {
   "cell_type": "markdown",
   "id": "014d6cc9-23f7-43dd-bf78-5bd4b15cb379",
   "metadata": {},
   "source": [
    "<details>\n",
    "<summary><strong>Solution</strong> (Click Here)</summary>\n",
    "```python\n",
    "    \n",
    "pipe = Pipeline([('ss',StandardScaler() ),('lr', LinearRegression())])\n",
    "get_R2_features(pipe)\n",
    "    \n",
    "```\n",
    "</details>\n"
   ]
  },
  {
   "cell_type": "markdown",
   "id": "93d1e225-6f9f-4133-9e2b-449e587b9a16",
   "metadata": {},
   "source": [
    "## Polynomial Features\n"
   ]
  },
  {
   "cell_type": "markdown",
   "id": "41113fe8-e1b0-4025-916a-7ea089dd59b7",
   "metadata": {},
   "source": [
    "### Multiple Features\n"
   ]
  },
  {
   "cell_type": "markdown",
   "id": "8a0ee065-ef74-45e0-be6c-d4d85202c78b",
   "metadata": {},
   "source": [
    "Polynomial transform is a simple way to increase the complexity of the model, but we must be mindful of overfilling.\n",
    "Below, we will perform a second degree (degree=2) polynomial transformation.\n"
   ]
  },
  {
   "cell_type": "code",
   "execution_count": null,
   "id": "8be08ac8-2566-4c97-b924-a95c5786137b",
   "metadata": {},
   "outputs": [],
   "source": [
    "poly_features = PolynomialFeatures(degree=2, include_bias=False)"
   ]
  },
  {
   "cell_type": "markdown",
   "id": "2935f526-1001-4785-ad62-b9d8999fad70",
   "metadata": {},
   "source": [
    "Now, we transform the training and testing data sets.\n"
   ]
  },
  {
   "cell_type": "code",
   "execution_count": null,
   "id": "8e868b1c-e40a-4ec3-bd6d-eee040246dcb",
   "metadata": {},
   "outputs": [],
   "source": [
    "X_train_poly = poly_features.fit_transform(X_train)\n",
    "X_test_poly = poly_features.transform(X_test)"
   ]
  },
  {
   "cell_type": "markdown",
   "id": "7f31107d-3e75-49e1-9f60-c8af53fe01ef",
   "metadata": {},
   "source": [
    "`X_train_poly` and `X_test_poly` now contain the original features of X plus the square of these features and the cross-terms combination.\n",
    "Let's check the shape of the newly created train and test sets.\n"
   ]
  },
  {
   "cell_type": "code",
   "execution_count": null,
   "id": "76dc68de-cc53-47f9-8151-d3acb149e9fc",
   "metadata": {},
   "outputs": [],
   "source": [
    "print(X_train_poly.shape)\n"
   ]
  },
  {
   "cell_type": "code",
   "execution_count": null,
   "id": "02d7b8c9-ac14-4c8e-acfa-4a11aee337b3",
   "metadata": {},
   "outputs": [],
   "source": [
    "print(X_test_poly.shape)"
   ]
  },
  {
   "cell_type": "markdown",
   "id": "1432df36-d0e6-4e95-911b-a148bb956a63",
   "metadata": {},
   "source": [
    "Altogether, we have 665 features. Now, we fit the model with the newly created features.\n"
   ]
  },
  {
   "cell_type": "code",
   "execution_count": null,
   "id": "b3209e52-7ca5-4fd9-9418-7f67f6be9212",
   "metadata": {},
   "outputs": [],
   "source": [
    "lm = LinearRegression()\n",
    "lm.fit(X_train_poly, y_train)"
   ]
  },
  {
   "cell_type": "markdown",
   "id": "f07d42d8-e48f-4d6b-83f5-e3af698911b0",
   "metadata": {},
   "source": [
    "And we make predictions.\n"
   ]
  },
  {
   "cell_type": "code",
   "execution_count": null,
   "id": "84f8e080-fb6f-400d-a356-01f112db2d97",
   "metadata": {},
   "outputs": [],
   "source": [
    "predicted = lm.predict(X_train_poly)"
   ]
  },
  {
   "cell_type": "markdown",
   "id": "da4deda7-f35c-4df2-8f63-832741d34411",
   "metadata": {},
   "source": [
    "Again, we can ckeck the `r2_score()` on both, training and testing data sets.\n"
   ]
  },
  {
   "cell_type": "code",
   "execution_count": null,
   "id": "28f29823-a3f7-4ddb-9eb4-21c508ae0abd",
   "metadata": {},
   "outputs": [],
   "source": [
    "print(\"R^2 on training data:\", lm.score(X_train_poly, y_train))\n",
    "print(\"R^2 on testing data:\", lm.score(X_test_poly,y_test))"
   ]
  },
  {
   "cell_type": "markdown",
   "id": "a6d6e66a-2e33-4166-b9bf-574b066922c6",
   "metadata": {},
   "source": [
    "We see the model has a negative $R^{2}$ on the test data set, this is sign of overfiting.\n"
   ]
  },
  {
   "cell_type": "markdown",
   "id": "fdb747cf-1441-4eab-965e-fda843377a97",
   "metadata": {},
   "source": [
    "### Individual Features \n"
   ]
  },
  {
   "cell_type": "markdown",
   "id": "5a519d29-d9fa-47d5-bba2-42b8c78d8e9e",
   "metadata": {},
   "source": [
    "<p>Data Pipelines simplify the steps of processing the data. We use the module <code>Pipeline</code> to create a pipeline. We also use <code>PolynomialFeatures</code> as a step in our pipeline.</p>\n"
   ]
  },
  {
   "cell_type": "code",
   "execution_count": null,
   "id": "1eef3c62-b7e0-4123-b9c3-da3a0d59eff8",
   "metadata": {},
   "outputs": [],
   "source": [
    "Input=[ ('polynomial', PolynomialFeatures(include_bias=False,degree=2)), ('model', LinearRegression())]"
   ]
  },
  {
   "cell_type": "markdown",
   "id": "f2bf88e7-56a7-46f5-8f81-6540c2200931",
   "metadata": {},
   "source": [
    "We can repeat the steps above, using the <code>Pipleine</code> object.\n"
   ]
  },
  {
   "cell_type": "code",
   "execution_count": null,
   "id": "c58b0ebe-4aed-4cff-b878-a16ce3b3c7f7",
   "metadata": {},
   "outputs": [],
   "source": [
    "pipe=Pipeline(Input)\n",
    "pipe.fit(X_train, y_train)"
   ]
  },
  {
   "cell_type": "markdown",
   "id": "61d85d09-6ca6-48dd-9e03-50acaf30edf7",
   "metadata": {},
   "source": [
    "We can see the results are identical.\n"
   ]
  },
  {
   "cell_type": "code",
   "execution_count": null,
   "id": "76a6b3c4-9ce3-41c3-8140-dc1f1fad6184",
   "metadata": {},
   "outputs": [],
   "source": [
    "print(\"R^2 on training  data:\", pipe.score(X_train, y_train))\n",
    "print(\"R^2 on testing data:\", pipe.score(X_test,y_test))"
   ]
  },
  {
   "cell_type": "markdown",
   "id": "5636ecc1-8b05-4811-9c07-dd907644fee8",
   "metadata": {},
   "source": [
    "We can train our model on each of the features using the Polynomial Feature transform of the second degree. Then we can plot our $R^2$. \n"
   ]
  },
  {
   "cell_type": "code",
   "execution_count": null,
   "id": "08eef2dd-f89a-4e5e-b2f1-152382ef6cfc",
   "metadata": {},
   "outputs": [],
   "source": [
    "get_R2_features(pipe)"
   ]
  },
  {
   "cell_type": "markdown",
   "id": "b148db12-c51c-4346-975b-d8901dd28872",
   "metadata": {},
   "source": [
    "Feature with the max $R^{2}$ is higher than when using all the features.\n"
   ]
  },
  {
   "cell_type": "markdown",
   "id": "793d4dfc-151e-40cb-ac1e-671267a34a98",
   "metadata": {},
   "source": [
    "## GridSearch and  Pipeline\n"
   ]
  },
  {
   "cell_type": "markdown",
   "id": "ab8f891b-e6b0-4d55-95ac-da927ab9ad9f",
   "metadata": {},
   "source": [
    "In this section of the notebook, we will define a pipeline object, then use GridSearch to find the best hyper-parameters of the model by using  cross-validation method of the  parameter grid, as shown in the figure below. A 5-fold cross validation is used by default. We will learn more about k-fold cross validation in the next, Cross Validation lesson of the Course.\n"
   ]
  },
  {
   "cell_type": "markdown",
   "id": "61941d05-7c55-4763-ba42-d93fd1843faa",
   "metadata": {},
   "source": [
    "<center>\n",
    "    <img src=\"https://cf-courses-data.s3.us.cloud-object-storage.appdomain.cloud/IBM-ML240EN-SkillsNetwork/images/k-fold.png\">\n",
    "</center>\n",
    "<center>source scikit-learn.org</center>\n"
   ]
  },
  {
   "cell_type": "markdown",
   "id": "012a728a-688a-4ad1-9d37-52e560bae87e",
   "metadata": {},
   "source": [
    "We create `PolynomialFeatures()` pipeline.\n"
   ]
  },
  {
   "cell_type": "code",
   "execution_count": null,
   "id": "30f16aea-004f-4b19-b691-dc6aa606360d",
   "metadata": {},
   "outputs": [],
   "source": [
    "Input=[ ('scaler', StandardScaler()), ('polynomial', PolynomialFeatures(include_bias=False,degree=2)), ('model',LinearRegression())]\n",
    "pipe=Pipeline(Input)"
   ]
  },
  {
   "cell_type": "markdown",
   "id": "a7f4bad8-a7a7-4b0e-9a97-07415afb685a",
   "metadata": {},
   "source": [
    "To search for the best combination of hyperparameters, we create a  <b>GridSearchCV</b> object with dictionary of parameter values. The parameters of pipelines can be set using the name of the key separated by \n",
    "'__', then the parameter name of the key.\n"
   ]
  },
  {
   "cell_type": "code",
   "execution_count": null,
   "id": "a45815a5-fb59-4a59-b0d6-229e1431607a",
   "metadata": {},
   "outputs": [],
   "source": [
    "param_grid = {\n",
    "    \"polynomial__degree\": [1, 2, 3]\n",
    "    \n",
    "    \n",
    "}"
   ]
  },
  {
   "cell_type": "markdown",
   "id": "3de28d11-ffa9-4aee-bdb0-47b9436d8fe3",
   "metadata": {},
   "source": [
    "<b>polynomial__degree</b>: is the degree of the polynomial. \n",
    "\n",
    "\n"
   ]
  },
  {
   "cell_type": "code",
   "execution_count": null,
   "id": "86dd8744-38f5-460c-b611-b949ac8b9322",
   "metadata": {},
   "outputs": [],
   "source": [
    "search = GridSearchCV(pipe, param_grid, n_jobs=1)\n"
   ]
  },
  {
   "cell_type": "code",
   "execution_count": null,
   "id": "b797e512-bf47-4e0b-b89b-055081b07408",
   "metadata": {},
   "outputs": [],
   "source": [
    "pipe.fit(X_train, y_train)"
   ]
  },
  {
   "cell_type": "code",
   "execution_count": null,
   "id": "42c7ba93-11fa-435b-b634-1fd97a11f84d",
   "metadata": {},
   "outputs": [],
   "source": [
    "search.fit(X_test, y_test)"
   ]
  },
  {
   "cell_type": "markdown",
   "id": "26b4370e-d118-475b-aff6-4d62f3a70631",
   "metadata": {},
   "source": [
    "The object finds the best parameter values on the validation data. We can obtain the estimator with the best parameters and assign it to the variable ```best```, as follows:\n"
   ]
  },
  {
   "cell_type": "code",
   "execution_count": null,
   "id": "e7eae829-184d-4e10-bebd-49bfaaaeb502",
   "metadata": {},
   "outputs": [],
   "source": [
    "best=search.best_estimator_\n",
    "best"
   ]
  },
  {
   "cell_type": "markdown",
   "id": "30e76a31-dd3f-49cb-8f67-b8100e0dcb05",
   "metadata": {},
   "source": [
    "We see the degree is one and normalize is <code>Ture </code>.\n"
   ]
  },
  {
   "cell_type": "markdown",
   "id": "e4c1b1ee-4799-4b1c-af8e-024799ecc347",
   "metadata": {},
   "source": [
    "Now, we test our model on the test data to see the best score.\n"
   ]
  },
  {
   "cell_type": "code",
   "execution_count": null,
   "id": "15b617ca-dd9c-4332-8f49-5b92d791094c",
   "metadata": {},
   "outputs": [],
   "source": [
    "best.score(X_test,y_test)"
   ]
  },
  {
   "cell_type": "markdown",
   "id": "85b915c8-bbcb-42d1-8aef-eb5e0f1837b1",
   "metadata": {},
   "source": [
    "Finally, we can plot a distribution of the predicted values versus the actual values. \n"
   ]
  },
  {
   "cell_type": "code",
   "execution_count": null,
   "id": "0706523d-a909-4003-b6cb-02bd9cad2e39",
   "metadata": {},
   "outputs": [],
   "source": [
    "predicted=best.predict(X_test)\n",
    "plot_dis(y_test,predicted)"
   ]
  },
  {
   "cell_type": "markdown",
   "id": "bb76ea1f-82fb-46ef-a949-840fa16205f6",
   "metadata": {},
   "source": [
    "As we see, the result is almost perfect!\n"
   ]
  },
  {
   "cell_type": "markdown",
   "id": "73041365-9376-49cd-ae31-3decbf7d943c",
   "metadata": {},
   "source": [
    "## Exercise 4\n",
    "In this Exercise, calculate the $R^2$ using the object ```Pipeline``` with ```GridSearch``` for each individual features.\n"
   ]
  },
  {
   "cell_type": "code",
   "execution_count": null,
   "id": "8d943a7b-ccab-4574-b485-7045cad5f8dc",
   "metadata": {},
   "outputs": [],
   "source": [
    "# Enter your code and run the cell\n"
   ]
  },
  {
   "cell_type": "markdown",
   "id": "ba37ae4b-8ab5-4b54-91be-edb993544118",
   "metadata": {},
   "source": [
    "<details>\n",
    "<summary><strong>Solution</strong> (Click Here)</summary>\n",
    "\n",
    "```python    \n",
    "features=list(X)\n",
    "   \n",
    "    \n",
    "R_2_train=[]\n",
    "R_2_test=[]\n",
    "\n",
    "for feature in features:\n",
    "    param_grid = {\n",
    "    \"polynomial__degree\": [ 1, 2,3,4,5],\n",
    "    \"model__positive\":[True, False]}\n",
    "    Input=[ ('polynomial', PolynomialFeatures(include_bias=False,degree=2)), ('model',LinearRegression())]\n",
    "    pipe=Pipeline(Input)\n",
    "    print(feature)\n",
    "    search = GridSearchCV(pipe, param_grid, n_jobs=2)\n",
    "    search.fit(X_test[[feature]], y_test)\n",
    "    best=search.best_estimator_\n",
    "        \n",
    "    R_2_test.append(best.score(X_test[[feature]],y_test))\n",
    "    R_2_train.append(best.score(X_train[[feature]],y_train))\n",
    "    \n",
    "        \n",
    "plt.bar(features,R_2_train,label=\"Train\")\n",
    "plt.bar(features,R_2_test,label=\"Test\")\n",
    "plt.xticks(rotation=90)\n",
    "plt.ylabel(\"$R^2$\")\n",
    "plt.legend()\n",
    "plt.show()\n",
    "print(\"Training R^2 mean value {} Testing R^2 mean value {} \".format(str(np.mean(R_2_train)),str(np.mean(R_2_test))) )\n",
    "print(\"Training R^2 max value {} Testing R^2 max value {} \".format(str(np.max(R_2_train)),str(np.max(R_2_test))) )\n",
    "```\n",
    "</details>\n"
   ]
  },
  {
   "cell_type": "markdown",
   "id": "ba6d2878-cb44-4d69-959c-4940ce7abc74",
   "metadata": {},
   "source": [
    "# Congratulations! - You have completed the lab\n"
   ]
  },
  {
   "cell_type": "markdown",
   "id": "5ac0a476-f455-4916-9e8f-46e4f1da26a7",
   "metadata": {},
   "source": [
    "## Authors\n"
   ]
  },
  {
   "cell_type": "markdown",
   "id": "240d4385-7edc-43e5-a043-29e4f8042b6a",
   "metadata": {},
   "source": [
    "<a href=\"https://www.linkedin.com/in/joseph-s-50398b136/?utm_medium=Exinfluencer&utm_source=Exinfluencer&utm_content=000026UJ&utm_term=10006555&utm_id=NA-SkillsNetwork-Channel-SkillsNetworkCoursesIBMDeveloperSkillsNetworkML0101ENSkillsNetwork20718538-2021-01-01\" target=\"_blank\">Joseph Santarcangelo</a>\n",
    "\n",
    "[Svitlana Kramar](www.linkedin.com/in/svitlana-kramar)\n"
   ]
  },
  {
   "cell_type": "markdown",
   "id": "4effac00-755b-4724-ad51-f98f3f8d3c74",
   "metadata": {},
   "source": [
    "<!--## Change Log\n",
    "-->\n"
   ]
  },
  {
   "cell_type": "markdown",
   "id": "77a8acc4-25c8-47f3-854e-75dd49396d83",
   "metadata": {},
   "source": [
    "<!--| Date (YYYY-MM-DD) | Version | Changed By            | Change Description                   |\n",
    "| ----------------- | ------- | --------------------- | ------------------------------------ |\n",
    "|   2022-04-15      | 0.1     | Svitlana K.           | Created the first draft |\n",
    "|   2022-04-18      | 0.1     | Joseph S.             | Updated all content |\n",
    "|   2022-04-26      | 0.1     | Svitlana K.           | Corrected minor grammar errors |-->\n",
    "\n"
   ]
  }
 ],
 "metadata": {
  "kernelspec": {
   "display_name": "Python 3",
   "language": "python",
   "name": "python3"
  },
  "language_info": {
   "codemirror_mode": {
    "name": "ipython",
    "version": 3
   },
   "file_extension": ".py",
   "mimetype": "text/x-python",
   "name": "python",
   "nbconvert_exporter": "python",
   "pygments_lexer": "ipython3",
   "version": "3.12.6"
  },
  "prev_pub_hash": "b43343995e7863ad69fdaa812b23be0a0ed313eec8a9074d8e06b60c9429cc51"
 },
 "nbformat": 4,
 "nbformat_minor": 4
}
